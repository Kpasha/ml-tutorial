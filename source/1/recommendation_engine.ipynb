{
 "cells": [
  {
   "cell_type": "markdown",
   "metadata": {},
   "source": [
    "# Recommendation Engine\n",
    "\n",
    "In this part we are going to build a simple recommender system using collaborative filtering.\n",
    "\n",
    "## 1. The import statements"
   ]
  },
  {
   "cell_type": "code",
   "execution_count": null,
   "metadata": {},
   "outputs": [],
   "source": [
    "import numpy as np\n",
    "import pandas as pd\n",
    "import sklearn.metrics.pairwise"
   ]
  },
  {
   "cell_type": "markdown",
   "metadata": {},
   "source": [
    "## 2. The data\n",
    "\n",
    "We will use Germany's data of the [Last.fm Dataset](https://labrosa.ee.columbia.edu/millionsong/lastfm). To read and print the data we will use the [pandas library](https://pandas.pydata.org/):\n",
    "+ [`pandas.read_csv`](https://pandas.pydata.org/pandas-docs/stable/reference/api/pandas.read_csv.html): reads a csv file and returns a [`pandas.DataFrame`](https://pandas.pydata.org/pandas-docs/stable/reference/api/pandas.DataFrame.html).\n",
    "+ [`pandas.DataFrame.set_index`](https://pandas.pydata.org/pandas-docs/stable/reference/api/pandas.DataFrame.set_index.html): sets the DataFrame index (the row identifiers).\n",
    "\n",
    "Pandas enables the use of method chaining: *read_csv* call returns a DataFrame, on which we can immediatly apply the *set_index* method by chaining it via dot notation."
   ]
  },
  {
   "cell_type": "code",
   "execution_count": null,
   "metadata": {},
   "outputs": [],
   "source": [
    "data = pd.read_csv('data/lastfm-matrix-germany.csv').set_index('user')\n",
    "data.head()"
   ]
  },
  {
   "cell_type": "markdown",
   "metadata": {},
   "source": [
    "As you can see the data contains for each user which songs they listened to on Last.FM. Note that the number of times a person listened to a specific band is not listed."
   ]
  },
  {
   "cell_type": "markdown",
   "metadata": {},
   "source": [
    "## 3. Band similarity\n",
    "\n",
    "We want to figure out which band to recommend to which user. Since we know which user listened to which band we can look for bands or users that are similar. Humans can have vastly complex listening preferences and are very hard to group. Bands on the other hand are usually much easier to group. So it is best to look for similarities between bands rather than between users.\n",
    "\n",
    "To determine if 2 bands are similar, you can use many different similarity metrics. Finding the best metric is a whole research topic on its own. In many cases though the [cosine similarity](https://en.wikipedia.org/wiki/Cosine_similarity) is used. The implementation we will use here is the [`sklearn.metrics.pairwise.cosine_similarity`](http://scikit-learn.org/stable/modules/generated/sklearn.metrics.pairwise.cosine_similarity.html)."
   ]
  },
  {
   "cell_type": "code",
   "execution_count": null,
   "metadata": {
    "nbgrader": {
     "grade": false,
     "grade_id": "cell-d9c9433185b5e835",
     "locked": false,
     "schema_version": 3,
     "solution": true
    }
   },
   "outputs": [],
   "source": [
    "### BEGIN SOLUTION\n",
    "similarity_matrix = sklearn.metrics.pairwise.cosine_similarity(data.T)\n",
    "### END SOLUTION\n",
    "# similarity_matrix = sklearn.metrics.pairwise.cosine_similarity( ? )\n",
    "\n",
    "assert similarity_matrix.shape == (285, 285)"
   ]
  },
  {
   "cell_type": "markdown",
   "metadata": {},
   "source": [
    "To make a nice print of the data we will use the pandas library as follows."
   ]
  },
  {
   "cell_type": "code",
   "execution_count": null,
   "metadata": {},
   "outputs": [],
   "source": [
    "band_similarities = pd.DataFrame(similarity_matrix, index=data.columns, columns=data.columns)\n",
    "band_similarities.head()"
   ]
  },
  {
   "cell_type": "markdown",
   "metadata": {},
   "source": [
    "As you can see above, bands are 100% similar to themselves and The White Stripes are nothing like Abba.\n",
    "\n",
    "## 4. Picking the best matches\n",
    "\n",
    "Even though many of the bands above have a similarity close to 0, there might be some bands that seem to be slightly similar because for some reason somebody with a very complex taste listened to them both. To remove this noise from the dataset we are going to select only the 10 best matches.\n",
    "\n",
    "Let's first try this with the first band in the list."
   ]
  },
  {
   "cell_type": "code",
   "execution_count": null,
   "metadata": {
    "nbgrader": {
     "grade": false,
     "grade_id": "cell-5be53bdff412383a",
     "locked": false,
     "schema_version": 3,
     "solution": true
    }
   },
   "outputs": [],
   "source": [
    "n_best = 10\n",
    "### BEGIN SOLUTION\n",
    "top_n = band_similarities.iloc[:,0].sort_values(ascending=False)[:n_best]\n",
    "### END SOLUTION\n",
    "# top_n = band_similarities.iloc[:,0].sort_values(ascending= ? )[:?]\n",
    "print(top_n)\n",
    "\n",
    "assert len(top_n) == 10"
   ]
  },
  {
   "cell_type": "markdown",
   "metadata": {},
   "source": [
    "If we only want the names, we can get them through the `.index`."
   ]
  },
  {
   "cell_type": "code",
   "execution_count": null,
   "metadata": {
    "nbgrader": {
     "grade": false,
     "grade_id": "cell-5e87aca499ae39d5",
     "locked": false,
     "schema_version": 3,
     "solution": true
    }
   },
   "outputs": [],
   "source": [
    "n_best = 10\n",
    "### BEGIN SOLUTION\n",
    "top_n = band_similarities.iloc[:,0].sort_values(ascending=False)[:n_best].index\n",
    "### END SOLUTION\n",
    "# top_n = band_similarities.iloc[:,0].sort_values(ascending= ? ) ?\n",
    "print(top_n)\n",
    "\n",
    "assert len(top_n) == 10 and top_n.__class__ == pd.Index"
   ]
  },
  {
   "cell_type": "markdown",
   "metadata": {},
   "source": [
    "We can now transform this task to a function, which will bring significant benefits when we want to generalize this to all bands:"
   ]
  },
  {
   "cell_type": "code",
   "execution_count": null,
   "metadata": {},
   "outputs": [],
   "source": [
    "def get_similar_bands(series, n=10):\n",
    "    ### BEGIN SOLUTION\n",
    "    return series.sort_values(ascending=False)[:n].index\n",
    "    ### END SOLUTION\n",
    "    # return series.sort_values( ? ) ?\n",
    "\n",
    "example_band = band_similarities.loc['a perfect circle', :]\n",
    "print(get_similar_bands(example_band))\n",
    "    \n",
    "assert np.array_equal(top_n, get_similar_bands(example_band))\n",
    "assert get_similar_bands(example_band).__class__ == pd.Index\n",
    "assert len(get_similar_bands(example_band, n=15)) == 15"
   ]
  },
  {
   "cell_type": "markdown",
   "metadata": {},
   "source": [
    "Now let's do this for all bands, using the [`pandas.DataFrame.apply`](https://pandas.pydata.org/pandas-docs/stable/reference/api/pandas.DataFrame.apply.html) method on the band_similarities DataFrame. This method applies a function along the index. We want to have the bands in the index, so the shape of our resulting dataframe should be 285 rows and 10 columns"
   ]
  },
  {
   "cell_type": "code",
   "execution_count": null,
   "metadata": {},
   "outputs": [],
   "source": [
    "### BEGIN SOLUTION\n",
    "top_n_similar_bands = band_similarities.apply(get_similar_bands).T\n",
    "### END SOLUTION\n",
    "#top_n_similar_bands = band_similarities.apply( ? ) ?\n",
    "\n",
    "print(top_n_similar_bands.shape)\n",
    "\n",
    "assert top_n_similar_bands.shape == (285, 10)\n",
    "\n",
    "top_n_similar_bands.head()"
   ]
  },
  {
   "cell_type": "markdown",
   "metadata": {},
   "source": [
    "## 5. Find which bands to advise.\n",
    "\n",
    "Now that we know which bands are similar, we have to figure out which bands to advise to whom. To do this we need to determine how the listening history of a user matches that of bands they didn't listen to yet. For this we will use the following similarity score."
   ]
  },
  {
   "cell_type": "code",
   "execution_count": null,
   "metadata": {},
   "outputs": [],
   "source": [
    "# Function to compute the similarity scores\n",
    "def similarity_score(listening_history, similarities):\n",
    "    return sum(listening_history * similarities) / sum(similarities)"
   ]
  },
  {
   "cell_type": "markdown",
   "metadata": {},
   "source": [
    "For each band we sum the similarities of bands the user also listened to. In the end we divide by the total sum of similarities to normalise the score.\n",
    "\n",
    "So let's say a user listened to 1 of 3 bands that are similar, for example `[0, 1, 0]` and there respective similarity scores are `[0.3, 0.2, 0.1]` you get the following score:"
   ]
  },
  {
   "cell_type": "code",
   "execution_count": null,
   "metadata": {},
   "outputs": [],
   "source": [
    "listening_history = np.array([0, 1, 0]) \n",
    "similarities = np.array([0.3, 0.2, 0.1])\n",
    "print(f'{similarity_score(listening_history, similarities):.3f}')"
   ]
  },
  {
   "cell_type": "markdown",
   "metadata": {},
   "source": [
    "Now let's compute the score for each band for user 1 (with index 0)."
   ]
  },
  {
   "cell_type": "code",
   "execution_count": null,
   "metadata": {
    "nbgrader": {
     "grade": false,
     "grade_id": "cell-e2b9f38e9fc67de3",
     "locked": false,
     "schema_version": 3,
     "solution": true
    }
   },
   "outputs": [],
   "source": [
    "user = 1\n",
    "\n",
    "# a list of all the scores\n",
    "scores = []\n",
    "\n",
    "for band_index in range(len(band_similarities.columns)):\n",
    "    band = band_similarities.columns[band_index]\n",
    "    \n",
    "    # For bands the user already listened to we set the score to 0\n",
    "    if data.loc[user, band] == 1:\n",
    "        scores.append(0)\n",
    "    else:\n",
    "        # Most similar bands to this one\n",
    "### BEGIN SOLUTION\n",
    "        most_similar_band_names = band_similarities.loc[band].sort_values(ascending=False)[1:n_best].index\n",
    "### END SOLUTION\n",
    "        # most_similar_band_names = band_similarities.loc[band].sort_values(ascending= ? ) ?\n",
    "        # Get the similarity score of these bands\n",
    "### BEGIN SOLUTION\n",
    "        most_similar_band_scores = band_similarities.loc[band].sort_values(ascending=False)[1:n_best]\n",
    "### END SOLUTION\n",
    "        # most_similar_band_scores = band_similarities.loc[band].sort_values(ascending= ? ) ?\n",
    "        # Get the listening history for these bands\n",
    "        user_listening_history = data.loc[user, most_similar_band_names]\n",
    "\n",
    "        scores.append(similarity_score(user_listening_history, most_similar_band_scores))"
   ]
  },
  {
   "cell_type": "markdown",
   "metadata": {},
   "source": [
    "Now let's make a nice print of the top 5 bands to advice to this user:"
   ]
  },
  {
   "cell_type": "code",
   "execution_count": null,
   "metadata": {},
   "outputs": [],
   "source": [
    "print(f'For user with id {user} we advice:')\n",
    "pd.DataFrame(scores, index=band_similarities.columns).sort_values(0, ascending=False).head()"
   ]
  },
  {
   "cell_type": "markdown",
   "metadata": {},
   "source": [
    "Now try this also for other users."
   ]
  },
  {
   "cell_type": "code",
   "execution_count": null,
   "metadata": {},
   "outputs": [],
   "source": []
  }
 ],
 "metadata": {
  "celltoolbar": "Create Assignment",
  "kernelspec": {
   "display_name": "Python (development)",
   "language": "python",
   "name": "development"
  },
  "language_info": {
   "codemirror_mode": {
    "name": "ipython",
    "version": 3
   },
   "file_extension": ".py",
   "mimetype": "text/x-python",
   "name": "python",
   "nbconvert_exporter": "python",
   "pygments_lexer": "ipython3",
   "version": "3.6.5"
  },
  "pycharm": {
   "stem_cell": {
    "cell_type": "raw",
    "metadata": {
     "collapsed": false
    },
    "source": []
   }
  }
 },
 "nbformat": 4,
 "nbformat_minor": 4
}
